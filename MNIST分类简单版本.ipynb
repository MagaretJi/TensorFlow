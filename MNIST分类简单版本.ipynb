{
 "cells": [
  {
   "cell_type": "code",
   "execution_count": 1,
   "metadata": {},
   "outputs": [],
   "source": [
    "import tensorflow as tf\n",
    "from tensorflow.examples.tutorials.mnist import input_data"
   ]
  },
  {
   "cell_type": "code",
   "execution_count": 2,
   "metadata": {},
   "outputs": [
    {
     "name": "stdout",
     "output_type": "stream",
     "text": [
      "WARNING:tensorflow:From <ipython-input-2-fa73d0419853>:1: read_data_sets (from tensorflow.contrib.learn.python.learn.datasets.mnist) is deprecated and will be removed in a future version.\n",
      "Instructions for updating:\n",
      "Please use alternatives such as official/mnist/dataset.py from tensorflow/models.\n",
      "WARNING:tensorflow:From C:\\software\\anaconda\\envs\\new enviroment name\\lib\\site-packages\\tensorflow\\contrib\\learn\\python\\learn\\datasets\\mnist.py:260: maybe_download (from tensorflow.contrib.learn.python.learn.datasets.base) is deprecated and will be removed in a future version.\n",
      "Instructions for updating:\n",
      "Please write your own downloading logic.\n",
      "WARNING:tensorflow:From C:\\software\\anaconda\\envs\\new enviroment name\\lib\\site-packages\\tensorflow\\contrib\\learn\\python\\learn\\datasets\\mnist.py:262: extract_images (from tensorflow.contrib.learn.python.learn.datasets.mnist) is deprecated and will be removed in a future version.\n",
      "Instructions for updating:\n",
      "Please use tf.data to implement this functionality.\n",
      "Extracting ./MNIST\\train-images-idx3-ubyte.gz\n",
      "WARNING:tensorflow:From C:\\software\\anaconda\\envs\\new enviroment name\\lib\\site-packages\\tensorflow\\contrib\\learn\\python\\learn\\datasets\\mnist.py:267: extract_labels (from tensorflow.contrib.learn.python.learn.datasets.mnist) is deprecated and will be removed in a future version.\n",
      "Instructions for updating:\n",
      "Please use tf.data to implement this functionality.\n",
      "Extracting ./MNIST\\train-labels-idx1-ubyte.gz\n",
      "WARNING:tensorflow:From C:\\software\\anaconda\\envs\\new enviroment name\\lib\\site-packages\\tensorflow\\contrib\\learn\\python\\learn\\datasets\\mnist.py:110: dense_to_one_hot (from tensorflow.contrib.learn.python.learn.datasets.mnist) is deprecated and will be removed in a future version.\n",
      "Instructions for updating:\n",
      "Please use tf.one_hot on tensors.\n",
      "Extracting ./MNIST\\t10k-images-idx3-ubyte.gz\n",
      "Extracting ./MNIST\\t10k-labels-idx1-ubyte.gz\n",
      "WARNING:tensorflow:From C:\\software\\anaconda\\envs\\new enviroment name\\lib\\site-packages\\tensorflow\\contrib\\learn\\python\\learn\\datasets\\mnist.py:290: DataSet.__init__ (from tensorflow.contrib.learn.python.learn.datasets.mnist) is deprecated and will be removed in a future version.\n",
      "Instructions for updating:\n",
      "Please use alternatives such as official/mnist/dataset.py from tensorflow/models.\n",
      "WARNING:tensorflow:From C:\\software\\anaconda\\envs\\new enviroment name\\lib\\site-packages\\tensorflow\\python\\framework\\op_def_library.py:263: colocate_with (from tensorflow.python.framework.ops) is deprecated and will be removed in a future version.\n",
      "Instructions for updating:\n",
      "Colocations handled automatically by placer.\n",
      "WARNING:tensorflow:From <ipython-input-2-fa73d0419853>:27: arg_max (from tensorflow.python.ops.gen_math_ops) is deprecated and will be removed in a future version.\n",
      "Instructions for updating:\n",
      "Use `tf.math.argmax` instead\n"
     ]
    }
   ],
   "source": [
    "mnist=input_data.read_data_sets('./MNIST',one_hot=True)\n",
    "\n",
    "#每个批次大小\n",
    "batch_size=100\n",
    "#一共多少个批次\n",
    "n_batch=mnist.train.num_examples//batch_size\n",
    "\n",
    "#定义两个placeholder\n",
    "#输入\n",
    "x=tf.placeholder(tf.float32,shape=[None,784])\n",
    "#标签\n",
    "y=tf.placeholder(tf.float32,shape=[None,10])\n",
    "\n",
    "#构造简单的神经网络\n",
    "W=tf.Variable(tf.zeros([784,10]))\n",
    "b=tf.Variable(tf.zeros([10]))\n",
    "prediction=tf.nn.softmax(tf.matmul(x,W)+b)\n",
    "\n",
    "#LOSS和梯度下降\n",
    "loss=tf.reduce_mean(tf.square(y-prediction))\n",
    "train_step=tf.train.GradientDescentOptimizer(0.2).minimize(loss)\n",
    "\n",
    "#初始化变量\n",
    "init=tf.global_variables_initializer()\n",
    "\n",
    "#准确率\n",
    "correct_prediction=tf.equal(tf.arg_max(y,1),tf.arg_max(prediction,1))\n",
    "accuracy=tf.reduce_mean(tf.cast(correct_prediction,tf.float32))"
   ]
  },
  {
   "cell_type": "code",
   "execution_count": 3,
   "metadata": {},
   "outputs": [
    {
     "name": "stdout",
     "output_type": "stream",
     "text": [
      "Iter0,Test Accuracy0.8322\n",
      "Iter1,Test Accuracy0.8711\n",
      "Iter2,Test Accuracy0.8805\n",
      "Iter3,Test Accuracy0.8884\n",
      "Iter4,Test Accuracy0.8942\n",
      "Iter5,Test Accuracy0.8981\n",
      "Iter6,Test Accuracy0.9004\n",
      "Iter7,Test Accuracy0.9016\n",
      "Iter8,Test Accuracy0.9037\n",
      "Iter9,Test Accuracy0.9051\n",
      "Iter10,Test Accuracy0.9061\n",
      "Iter11,Test Accuracy0.9072\n",
      "Iter12,Test Accuracy0.9082\n",
      "Iter13,Test Accuracy0.9082\n",
      "Iter14,Test Accuracy0.9096\n",
      "Iter15,Test Accuracy0.9108\n",
      "Iter16,Test Accuracy0.9116\n",
      "Iter17,Test Accuracy0.9117\n",
      "Iter18,Test Accuracy0.9134\n",
      "Iter19,Test Accuracy0.9132\n"
     ]
    }
   ],
   "source": [
    "with tf.Session() as sess:\n",
    "    sess.run(init)\n",
    "   \n",
    "    for epoch in range(20):\n",
    "        for batch in range(n_batch):\n",
    "            bacth_x,batch_y=mnist.train.next_batch(batch_size)\n",
    "            sess.run(train_step,feed_dict={x:bacth_x,y:batch_y})\n",
    "        \n",
    "        acc=sess.run(accuracy,feed_dict={x:mnist.test.images,y:mnist.test.labels})\n",
    "        print(\"Iter\"+str(epoch)+\",Test Accuracy\"+str(acc))"
   ]
  },
  {
   "cell_type": "code",
   "execution_count": null,
   "metadata": {},
   "outputs": [],
   "source": []
  },
  {
   "cell_type": "code",
   "execution_count": null,
   "metadata": {},
   "outputs": [],
   "source": []
  }
 ],
 "metadata": {
  "kernelspec": {
   "display_name": "Python 3",
   "language": "python",
   "name": "python3"
  },
  "language_info": {
   "codemirror_mode": {
    "name": "ipython",
    "version": 3
   },
   "file_extension": ".py",
   "mimetype": "text/x-python",
   "name": "python",
   "nbconvert_exporter": "python",
   "pygments_lexer": "ipython3",
   "version": "3.6.8"
  }
 },
 "nbformat": 4,
 "nbformat_minor": 2
}
