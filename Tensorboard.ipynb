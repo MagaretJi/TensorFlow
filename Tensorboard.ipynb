{
 "cells": [
  {
   "cell_type": "code",
   "execution_count": 3,
   "metadata": {},
   "outputs": [],
   "source": [
    "import tensorflow as tf\n",
    "from tensorflow.examples.tutorials.mnist import input_data"
   ]
  },
  {
   "cell_type": "code",
   "execution_count": 9,
   "metadata": {},
   "outputs": [
    {
     "name": "stdout",
     "output_type": "stream",
     "text": [
      "Extracting ./MNIST\\train-images-idx3-ubyte.gz\n",
      "Extracting ./MNIST\\train-labels-idx1-ubyte.gz\n",
      "Extracting ./MNIST\\t10k-images-idx3-ubyte.gz\n",
      "Extracting ./MNIST\\t10k-labels-idx1-ubyte.gz\n"
     ]
    }
   ],
   "source": [
    "mnist=input_data.read_data_sets('./MNIST',one_hot=True)\n",
    "\n",
    "#每个批次大小\n",
    "batch_size=100\n",
    "#一共多少个批次\n",
    "n_batch=mnist.train.num_examples//batch_size\n",
    "\n",
    "#命名空间\n",
    "with tf.name_scope('input'):\n",
    "    #定义两个placeholder\n",
    "    #输入\n",
    "    x=tf.placeholder(tf.float32,shape=[None,784],name='x-input')\n",
    "    #标签\n",
    "    y=tf.placeholder(tf.float32,shape=[None,10],name='y-input')\n",
    "\n",
    "with tf.name_scope('layer'):\n",
    "    #构造简单的神经网络\n",
    "    with tf.name_scope('weights'):\n",
    "        W=tf.Variable(tf.zeros([784,10]),name='w')\n",
    "    with tf.name_scope('bias'):\n",
    "        b=tf.Variable(tf.zeros([10]),name='b')\n",
    "    with tf.name_scope('prediction'):\n",
    "        prediction=tf.nn.softmax(tf.matmul(x,W)+b)\n",
    "\n",
    "with tf.name_scope('loss'):        \n",
    "#LOSS和梯度下降\n",
    "    loss=tf.reduce_mean(tf.square(y-prediction))\n",
    "with tf.name_scope('train'):\n",
    "    train_step=tf.train.GradientDescentOptimizer(0.2).minimize(loss)\n",
    "\n",
    "#初始化变量\n",
    "init=tf.global_variables_initializer()\n",
    "\n",
    "#准确率\n",
    "correct_prediction=tf.equal(tf.arg_max(y,1),tf.arg_max(prediction,1))\n",
    "accuracy=tf.reduce_mean(tf.cast(correct_prediction,tf.float32))"
   ]
  },
  {
   "cell_type": "code",
   "execution_count": 10,
   "metadata": {},
   "outputs": [
    {
     "name": "stdout",
     "output_type": "stream",
     "text": [
      "Iter0,Test Accuracy0.3603\n",
      "Iter1,Test Accuracy0.4119\n",
      "Iter2,Test Accuracy0.522\n",
      "Iter3,Test Accuracy0.5346\n",
      "Iter4,Test Accuracy0.5509\n",
      "Iter5,Test Accuracy0.5978\n",
      "Iter6,Test Accuracy0.6357\n",
      "Iter7,Test Accuracy0.5541\n",
      "Iter8,Test Accuracy0.5634\n",
      "Iter9,Test Accuracy0.5614\n",
      "Iter10,Test Accuracy0.6158\n",
      "Iter11,Test Accuracy0.6355\n",
      "Iter12,Test Accuracy0.64\n",
      "Iter13,Test Accuracy0.6701\n",
      "Iter14,Test Accuracy0.692\n",
      "Iter15,Test Accuracy0.6443\n",
      "Iter16,Test Accuracy0.6484\n",
      "Iter17,Test Accuracy0.6405\n",
      "Iter18,Test Accuracy0.6756\n",
      "Iter19,Test Accuracy0.6761\n"
     ]
    }
   ],
   "source": [
    "with tf.Session() as sess:\n",
    "    sess.run(init)\n",
    "    writer=tf.summary.FileWriter('logs/',sess.graph)\n",
    "    for epoch in range(20):\n",
    "        for batch in range(1):\n",
    "            bacth_x,batch_y=mnist.train.next_batch(batch_size)\n",
    "            sess.run(train_step,feed_dict={x:bacth_x,y:batch_y})\n",
    "        \n",
    "        acc=sess.run(accuracy,feed_dict={x:mnist.test.images,y:mnist.test.labels})\n",
    "        print(\"Iter\"+str(epoch)+\",Test Accuracy\"+str(acc))"
   ]
  },
  {
   "cell_type": "code",
   "execution_count": null,
   "metadata": {},
   "outputs": [],
   "source": []
  },
  {
   "cell_type": "code",
   "execution_count": null,
   "metadata": {},
   "outputs": [],
   "source": []
  }
 ],
 "metadata": {
  "kernelspec": {
   "display_name": "Python 3",
   "language": "python",
   "name": "python3"
  },
  "language_info": {
   "codemirror_mode": {
    "name": "ipython",
    "version": 3
   },
   "file_extension": ".py",
   "mimetype": "text/x-python",
   "name": "python",
   "nbconvert_exporter": "python",
   "pygments_lexer": "ipython3",
   "version": "3.6.8"
  }
 },
 "nbformat": 4,
 "nbformat_minor": 2
}
