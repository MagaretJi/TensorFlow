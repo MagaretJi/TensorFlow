{
 "cells": [
  {
   "cell_type": "code",
   "execution_count": 4,
   "metadata": {},
   "outputs": [],
   "source": [
    "import tensorflow as tf\n",
    "from tensorflow.examples.tutorials.mnist import input_data"
   ]
  },
  {
   "cell_type": "code",
   "execution_count": 5,
   "metadata": {},
   "outputs": [
    {
     "name": "stdout",
     "output_type": "stream",
     "text": [
      "Extracting ./MNIST\\train-images-idx3-ubyte.gz\n",
      "Extracting ./MNIST\\train-labels-idx1-ubyte.gz\n",
      "Extracting ./MNIST\\t10k-images-idx3-ubyte.gz\n",
      "Extracting ./MNIST\\t10k-labels-idx1-ubyte.gz\n"
     ]
    }
   ],
   "source": [
    "mnist=input_data.read_data_sets('./MNIST',one_hot=True)\n",
    "\n",
    "#每个批次大小\n",
    "batch_size=100\n",
    "#一共多少个批次\n",
    "n_batch=mnist.train.num_examples//batch_size\n",
    "\n",
    "#参数概要\n",
    "def variable_summaries(var):\n",
    "    with tf.name_scope('summaries'):\n",
    "        mean=tf.reduce_mean(var)\n",
    "        tf.summary.scalar('mean',mean)#平均值\n",
    "        with tf.name_scope('stddev'):\n",
    "            stddev=tf.sqrt(tf.reduce_mean(tf.square(var-mean)))\n",
    "        tf.summary.scalar('stddev',stddev)#标准差\n",
    "        tf.summary.scalar('max',tf.reduce_max(var))#最大值\n",
    "        tf.summary.scalar('min',tf.reduce_mean(var))#最小值\n",
    "        tf.summary.histogram('histogram',var)#直方图\n",
    "\n",
    "\n",
    "#命名空间\n",
    "with tf.name_scope('input'):\n",
    "    #定义两个placeholder\n",
    "    #输入\n",
    "    x=tf.placeholder(tf.float32,shape=[None,784],name='x-input')\n",
    "    #标签\n",
    "    y=tf.placeholder(tf.float32,shape=[None,10],name='y-input')\n",
    "\n",
    "with tf.name_scope('layer'):\n",
    "    #构造简单的神经网络\n",
    "    with tf.name_scope('weights'):\n",
    "        W=tf.Variable(tf.zeros([784,10]),name='w')\n",
    "        variable_summaries(W)\n",
    "    with tf.name_scope('bias'):\n",
    "        b=tf.Variable(tf.zeros([10]),name='b')\n",
    "        variable_summaries(b)\n",
    "    with tf.name_scope('prediction'):\n",
    "        prediction=tf.nn.softmax(tf.matmul(x,W)+b)\n",
    "\n",
    "with tf.name_scope('loss'):        \n",
    "#LOSS和梯度下降\n",
    "    loss=tf.reduce_mean(tf.square(y-prediction))\n",
    "    tf.summary.scalar('loss',loss)\n",
    "with tf.name_scope('train'):\n",
    "    train_step=tf.train.GradientDescentOptimizer(0.2).minimize(loss)\n",
    "\n",
    "#初始化变量\n",
    "init=tf.global_variables_initializer()\n",
    "\n",
    "#准确率\n",
    "with tf.name_scope('accuracy'):\n",
    "    with tf.name_scope('correct_prediction'):\n",
    "        correct_prediction=tf.equal(tf.arg_max(y,1),tf.arg_max(prediction,1))\n",
    "    with tf.name_scope('accuracy'):\n",
    "        accuracy=tf.reduce_mean(tf.cast(correct_prediction,tf.float32))\n",
    "        tf.summary.scalar('accuracy',accuracy)\n",
    "\n",
    "#合并所有的summary\n",
    "merge=tf.summary.merge_all()"
   ]
  },
  {
   "cell_type": "code",
   "execution_count": 6,
   "metadata": {},
   "outputs": [
    {
     "name": "stdout",
     "output_type": "stream",
     "text": [
      "Iter0,Test Accuracy0.8307\n",
      "Iter1,Test Accuracy0.8702\n",
      "Iter2,Test Accuracy0.8805\n",
      "Iter3,Test Accuracy0.8892\n",
      "Iter4,Test Accuracy0.8948\n",
      "Iter5,Test Accuracy0.8975\n",
      "Iter6,Test Accuracy0.8989\n",
      "Iter7,Test Accuracy0.9018\n",
      "Iter8,Test Accuracy0.9038\n",
      "Iter9,Test Accuracy0.9049\n",
      "Iter10,Test Accuracy0.9063\n",
      "Iter11,Test Accuracy0.9073\n",
      "Iter12,Test Accuracy0.9087\n",
      "Iter13,Test Accuracy0.9085\n",
      "Iter14,Test Accuracy0.9092\n",
      "Iter15,Test Accuracy0.9105\n",
      "Iter16,Test Accuracy0.9114\n",
      "Iter17,Test Accuracy0.9121\n",
      "Iter18,Test Accuracy0.9123\n",
      "Iter19,Test Accuracy0.9133\n",
      "Iter20,Test Accuracy0.9144\n",
      "Iter21,Test Accuracy0.9139\n",
      "Iter22,Test Accuracy0.9147\n",
      "Iter23,Test Accuracy0.9158\n",
      "Iter24,Test Accuracy0.9164\n",
      "Iter25,Test Accuracy0.9161\n",
      "Iter26,Test Accuracy0.9173\n",
      "Iter27,Test Accuracy0.9168\n",
      "Iter28,Test Accuracy0.9171\n",
      "Iter29,Test Accuracy0.9175\n",
      "Iter30,Test Accuracy0.9176\n",
      "Iter31,Test Accuracy0.9185\n",
      "Iter32,Test Accuracy0.9184\n",
      "Iter33,Test Accuracy0.9188\n",
      "Iter34,Test Accuracy0.9192\n",
      "Iter35,Test Accuracy0.9188\n",
      "Iter36,Test Accuracy0.9187\n",
      "Iter37,Test Accuracy0.919\n",
      "Iter38,Test Accuracy0.9194\n",
      "Iter39,Test Accuracy0.9191\n",
      "Iter40,Test Accuracy0.9195\n",
      "Iter41,Test Accuracy0.9202\n",
      "Iter42,Test Accuracy0.92\n",
      "Iter43,Test Accuracy0.9205\n",
      "Iter44,Test Accuracy0.9205\n",
      "Iter45,Test Accuracy0.9205\n",
      "Iter46,Test Accuracy0.9204\n",
      "Iter47,Test Accuracy0.9207\n",
      "Iter48,Test Accuracy0.9208\n",
      "Iter49,Test Accuracy0.9215\n"
     ]
    }
   ],
   "source": [
    "with tf.Session() as sess:\n",
    "    sess.run(init)\n",
    "    writer=tf.summary.FileWriter('logs/tensorboard运行/',sess.graph)\n",
    "    for epoch in range(50):\n",
    "        for batch in range(n_batch):\n",
    "            bacth_x,batch_y=mnist.train.next_batch(batch_size)\n",
    "            summary,_=sess.run([merge,train_step],feed_dict={x:bacth_x,y:batch_y})\n",
    "        writer.add_summary(summary,epoch)#打点，\n",
    "        acc=sess.run(accuracy,feed_dict={x:mnist.test.images,y:mnist.test.labels})\n",
    "        print(\"Iter\"+str(epoch)+\",Test Accuracy\"+str(acc))"
   ]
  },
  {
   "cell_type": "code",
   "execution_count": null,
   "metadata": {},
   "outputs": [],
   "source": []
  },
  {
   "cell_type": "code",
   "execution_count": null,
   "metadata": {},
   "outputs": [],
   "source": []
  }
 ],
 "metadata": {
  "kernelspec": {
   "display_name": "Python 3",
   "language": "python",
   "name": "python3"
  },
  "language_info": {
   "codemirror_mode": {
    "name": "ipython",
    "version": 3
   },
   "file_extension": ".py",
   "mimetype": "text/x-python",
   "name": "python",
   "nbconvert_exporter": "python",
   "pygments_lexer": "ipython3",
   "version": "3.6.8"
  }
 },
 "nbformat": 4,
 "nbformat_minor": 2
}
